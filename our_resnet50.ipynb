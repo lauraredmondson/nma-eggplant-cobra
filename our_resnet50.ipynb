{
 "cells": [
  {
   "cell_type": "markdown",
   "metadata": {
    "colab_type": "text",
    "id": "view-in-github"
   },
   "source": [
    "<a href=\"https://colab.research.google.com/github/lauraredmondson/nma-eggplant-cobra/blob/master/our_resnet50.ipynb\" target=\"_parent\"><img src=\"https://colab.research.google.com/assets/colab-badge.svg\" alt=\"Open In Colab\"/></a>"
   ]
  },
  {
   "cell_type": "code",
   "execution_count": null,
   "metadata": {
    "colab": {
     "base_uri": "https://localhost:8080/",
     "height": 35
    },
    "colab_type": "code",
    "id": "iXX1gMb7LRHA",
    "outputId": "b9df7fe4-57dd-4b36-c277-faf0bfb1d240"
   },
   "outputs": [
    {
     "name": "stderr",
     "output_type": "stream",
     "text": [
      "Using TensorFlow backend.\n"
     ]
    }
   ],
   "source": [
    "# import modules\n",
    "\n",
    "import keras\n",
    "from keras import layers\n",
    "from keras.applications import ResNet152V2, VGG16, VGG19\n",
    "from keras.preprocessing.image import ImageDataGenerator\n",
    "from matplotlib import pyplot as plt\n",
    "import numpy as np\n",
    "import os\n",
    "from scipy.io import loadmat\n",
    "import urllib"
   ]
  },
  {
   "cell_type": "code",
   "execution_count": null,
   "metadata": {
    "colab": {},
    "colab_type": "code",
    "id": "OwMbebIDLlOX"
   },
   "outputs": [],
   "source": [
    "fname = \"kay_images.npz\"\n",
    "if not os.path.exists(fname):\n",
    "  !wget -qO $fname https://osf.io/ymnjv/download\n",
    "\n",
    "with np.load(fname) as dobj:\n",
    "    dat = dict(**dobj)  \n"
   ]
  },
  {
   "cell_type": "code",
   "execution_count": null,
   "metadata": {},
   "outputs": [],
   "source": [
    "# import labels\n",
    "\n",
    "temp_test, _ = urllib.request.urlretrieve('https://github.com/lauraredmondson/nma-eggplant-cobra/raw/master/y_test.mat')\n",
    "temp_train,  _ = urllib.request.urlretrieve('https://github.com/lauraredmondson/nma-eggplant-cobra/raw/master/y_train.mat')\n",
    "test = loadmat(temp_test)\n",
    "train = loadmat(temp_train)\n",
    "print(train.keys())"
   ]
  },
  {
   "cell_type": "code",
   "execution_count": null,
   "metadata": {
    "colab": {},
    "colab_type": "code",
    "id": "Xe3JX0iUL9-Q"
   },
   "outputs": [],
   "source": [
    "test = loadmat('y_test.mat')\n",
    "train = loadmat('y_train.mat')"
   ]
  },
  {
   "cell_type": "code",
   "execution_count": null,
   "metadata": {
    "colab": {
     "base_uri": "https://localhost:8080/",
     "height": 35
    },
    "colab_type": "code",
    "id": "_T-rdntGME8Y",
    "outputId": "0d6eeaac-e7b0-47d1-87bd-7463ab66b97f"
   },
   "outputs": [
    {
     "name": "stdout",
     "output_type": "stream",
     "text": [
      "8\n"
     ]
    }
   ],
   "source": [
    "# extract variables\n",
    "\n",
    "y_train = train[\"y_train\"]\n",
    "y_test = test[\"y_test\"]\n",
    "print(np.max(y_train))\n",
    "x_train = dat[\"stimuli\"]\n",
    "x_test = dat[\"stimuli_test\"]"
   ]
  },
  {
   "cell_type": "code",
   "execution_count": null,
   "metadata": {
    "colab": {},
    "colab_type": "code",
    "id": "wqsJFguGMItj"
   },
   "outputs": [],
   "source": [
    "# Preprocessing\n",
    "\n",
    "# subtract mean, divide by standard deviation, add axis \n",
    "# one-hot array \n",
    "\n",
    "x_train= x_train.astype('float32')   #currently X matrices are of data type int: need to convert here to stop python from complaining when we divide\n",
    "x_train -= np.mean(x_train)           #deduct the mean: now mean == 0\n",
    "x_train /= np.std(x_train)            #divide by the std: now std == 1\n",
    "x_train = np.expand_dims(x_train, -1) #add an extra dimension because our Conv2D layer wills it so\n",
    "\n",
    "x_test = x_test.astype('float32')     #see above\n",
    "x_test -= np.mean(x_test)\n",
    "x_test /= np.std(x_test)\n",
    "x_test = np.expand_dims(x_test, -1)\n",
    "\n",
    "x_train = np.tile(x_train, 3)\n",
    "x_test = np.tile(x_test, 3)\n",
    "\n",
    "y_train -= 1\n",
    "y_test -= 1\n",
    "\n",
    "y_train = keras.utils.to_categorical(y_train, 8) #turn our y vectors (currently ints 0-9) into 'one-hot' vectors to match the categorical output of our network\n",
    "y_test = keras.utils.to_categorical(y_test, 8)"
   ]
  },
  {
   "cell_type": "code",
   "execution_count": null,
   "metadata": {
    "colab": {
     "base_uri": "https://localhost:8080/",
     "height": 1000
    },
    "colab_type": "code",
    "id": "2DTTrMtvMMBC",
    "outputId": "cc78b5a3-b716-4c5c-8fd7-03a470d8854f"
   },
   "outputs": [
    {
     "name": "stdout",
     "output_type": "stream",
     "text": [
      "Downloading data from https://github.com/fchollet/deep-learning-models/releases/download/v0.1/vgg19_weights_tf_dim_ordering_tf_kernels_notop.h5\n",
      "80142336/80134624 [==============================] - 3s 0us/step\n",
      "Model: \"vgg19\"\n",
      "_________________________________________________________________\n",
      "Layer (type)                 Output Shape              Param #   \n",
      "=================================================================\n",
      "input_1 (InputLayer)         (None, 128, 128, 3)       0         \n",
      "_________________________________________________________________\n",
      "block1_conv1 (Conv2D)        (None, 128, 128, 64)      1792      \n",
      "_________________________________________________________________\n",
      "block1_conv2 (Conv2D)        (None, 128, 128, 64)      36928     \n",
      "_________________________________________________________________\n",
      "block1_pool (MaxPooling2D)   (None, 64, 64, 64)        0         \n",
      "_________________________________________________________________\n",
      "block2_conv1 (Conv2D)        (None, 64, 64, 128)       73856     \n",
      "_________________________________________________________________\n",
      "block2_conv2 (Conv2D)        (None, 64, 64, 128)       147584    \n",
      "_________________________________________________________________\n",
      "block2_pool (MaxPooling2D)   (None, 32, 32, 128)       0         \n",
      "_________________________________________________________________\n",
      "block3_conv1 (Conv2D)        (None, 32, 32, 256)       295168    \n",
      "_________________________________________________________________\n",
      "block3_conv2 (Conv2D)        (None, 32, 32, 256)       590080    \n",
      "_________________________________________________________________\n",
      "block3_conv3 (Conv2D)        (None, 32, 32, 256)       590080    \n",
      "_________________________________________________________________\n",
      "block3_conv4 (Conv2D)        (None, 32, 32, 256)       590080    \n",
      "_________________________________________________________________\n",
      "block3_pool (MaxPooling2D)   (None, 16, 16, 256)       0         \n",
      "_________________________________________________________________\n",
      "block4_conv1 (Conv2D)        (None, 16, 16, 512)       1180160   \n",
      "_________________________________________________________________\n",
      "block4_conv2 (Conv2D)        (None, 16, 16, 512)       2359808   \n",
      "_________________________________________________________________\n",
      "block4_conv3 (Conv2D)        (None, 16, 16, 512)       2359808   \n",
      "_________________________________________________________________\n",
      "block4_conv4 (Conv2D)        (None, 16, 16, 512)       2359808   \n",
      "_________________________________________________________________\n",
      "block4_pool (MaxPooling2D)   (None, 8, 8, 512)         0         \n",
      "_________________________________________________________________\n",
      "block5_conv1 (Conv2D)        (None, 8, 8, 512)         2359808   \n",
      "_________________________________________________________________\n",
      "block5_conv2 (Conv2D)        (None, 8, 8, 512)         2359808   \n",
      "_________________________________________________________________\n",
      "block5_conv3 (Conv2D)        (None, 8, 8, 512)         2359808   \n",
      "_________________________________________________________________\n",
      "block5_conv4 (Conv2D)        (None, 8, 8, 512)         2359808   \n",
      "_________________________________________________________________\n",
      "block5_pool (MaxPooling2D)   (None, 4, 4, 512)         0         \n",
      "=================================================================\n",
      "Total params: 20,024,384\n",
      "Trainable params: 20,024,384\n",
      "Non-trainable params: 0\n",
      "_________________________________________________________________\n",
      "None\n"
     ]
    }
   ],
   "source": [
    "# Our base, see https://arxiv.org/abs/1409.1556 for details\n",
    "conv_base = VGG19(\n",
    "    include_top=False,\n",
    "    weights='imagenet',\n",
    "    input_shape=(128,128,3),\n",
    ")\n",
    "\n",
    "print(conv_base.summary())\n",
    "conv_base.trainable = False # Freeze!"
   ]
  },
  {
   "cell_type": "code",
   "execution_count": null,
   "metadata": {
    "colab": {
     "base_uri": "https://localhost:8080/",
     "height": 308
    },
    "colab_type": "code",
    "id": "AaFxTtptO472",
    "outputId": "7c7738dc-fa94-4774-97f1-0fef2b893aa5"
   },
   "outputs": [
    {
     "name": "stdout",
     "output_type": "stream",
     "text": [
      "Model: \"sequential_1\"\n",
      "_________________________________________________________________\n",
      "Layer (type)                 Output Shape              Param #   \n",
      "=================================================================\n",
      "vgg19 (Model)                (None, 4, 4, 512)         20024384  \n",
      "_________________________________________________________________\n",
      "flatten_1 (Flatten)          (None, 8192)              0         \n",
      "_________________________________________________________________\n",
      "dense_1 (Dense)              (None, 100)               819300    \n",
      "_________________________________________________________________\n",
      "dense_2 (Dense)              (None, 8)                 808       \n",
      "=================================================================\n",
      "Total params: 20,844,492\n",
      "Trainable params: 820,108\n",
      "Non-trainable params: 20,024,384\n",
      "_________________________________________________________________\n"
     ]
    }
   ],
   "source": [
    "# Now we make a model and stick a head on it\n",
    "model = keras.Sequential()\n",
    "model.add(conv_base)\n",
    "model.add(layers.Flatten())\n",
    "model.add(layers.Dense(100, activation='relu'))\n",
    "model.add(layers.Dense(8, activation='softmax'))\n",
    "model.summary()"
   ]
  },
  {
   "cell_type": "code",
   "execution_count": null,
   "metadata": {
    "colab": {},
    "colab_type": "code",
    "id": "kZOZhUdjPHwl"
   },
   "outputs": [],
   "source": [
    "model.compile(optimizer=\"adam\", loss=\"categorical_crossentropy\",metrics=[\"accuracy\"])"
   ]
  },
  {
   "cell_type": "code",
   "execution_count": null,
   "metadata": {
    "colab": {
     "base_uri": "https://localhost:8080/",
     "height": 399
    },
    "colab_type": "code",
    "id": "WD2zZT8iQRKt",
    "outputId": "49b51970-7e81-4071-9cd9-365286715cdd"
   },
   "outputs": [
    {
     "name": "stdout",
     "output_type": "stream",
     "text": [
      "Train on 1575 samples, validate on 175 samples\n",
      "Epoch 1/10\n",
      "1575/1575 [==============================] - 14s 9ms/step - loss: 1.4464 - accuracy: 0.5213 - val_loss: 1.0279 - val_accuracy: 0.6571\n",
      "Epoch 2/10\n",
      "1575/1575 [==============================] - 4s 2ms/step - loss: 0.7032 - accuracy: 0.7581 - val_loss: 0.9018 - val_accuracy: 0.6686\n",
      "Epoch 3/10\n",
      "1575/1575 [==============================] - 4s 2ms/step - loss: 0.4812 - accuracy: 0.8495 - val_loss: 0.9382 - val_accuracy: 0.6857\n",
      "Epoch 4/10\n",
      "1575/1575 [==============================] - 4s 2ms/step - loss: 0.3168 - accuracy: 0.9105 - val_loss: 0.9401 - val_accuracy: 0.6971\n",
      "Epoch 5/10\n",
      "1575/1575 [==============================] - 4s 2ms/step - loss: 0.2416 - accuracy: 0.9416 - val_loss: 1.0084 - val_accuracy: 0.6914\n",
      "Epoch 6/10\n",
      "1575/1575 [==============================] - 4s 2ms/step - loss: 0.1509 - accuracy: 0.9727 - val_loss: 0.9140 - val_accuracy: 0.6971\n",
      "Epoch 7/10\n",
      "1575/1575 [==============================] - 4s 2ms/step - loss: 0.1053 - accuracy: 0.9943 - val_loss: 1.0255 - val_accuracy: 0.6800\n",
      "Epoch 8/10\n",
      "1575/1575 [==============================] - 4s 2ms/step - loss: 0.0819 - accuracy: 0.9924 - val_loss: 1.0191 - val_accuracy: 0.6914\n",
      "Epoch 9/10\n",
      "1575/1575 [==============================] - 4s 2ms/step - loss: 0.0612 - accuracy: 0.9968 - val_loss: 1.1137 - val_accuracy: 0.6800\n",
      "Epoch 10/10\n",
      "1575/1575 [==============================] - 4s 2ms/step - loss: 0.0467 - accuracy: 0.9975 - val_loss: 1.1079 - val_accuracy: 0.6686\n"
     ]
    }
   ],
   "source": [
    "#datagen = ImageDataGenerator(\n",
    "#    featurewise_center=True,\n",
    "#    featurewise_std_normalization=True,\n",
    "#    rotation_range=20,\n",
    "#    width_shift_range=0.2,\n",
    "#    height_shift_range=0.2,\n",
    "#    horizontal_flip=True)\n",
    "# compute quantities required for featurewise normalization\n",
    "# (std, mean, and principal components if ZCA whitening is applied)\n",
    "#datagen.fit(x_train)\n",
    "# fits the model on batches with real-time data augmentation:\n",
    "#history=model.fit(datagen.flow(x_train, y_train, batch_size=50), steps_per_epoch=len(x_train) / 50, epochs=10)\n",
    "# uncomment out the above and comment the line below if you want to run the training with data augmentation instead (Which to me doesn)\n",
    "history=model.fit(x_train, y_train, batch_size=50, epochs=10,validation_split=0.1)"
   ]
  },
  {
   "cell_type": "code",
   "execution_count": null,
   "metadata": {
    "colab": {
     "base_uri": "https://localhost:8080/",
     "height": 337
    },
    "colab_type": "code",
    "id": "p0MpFCCFRmBF",
    "outputId": "986a56af-d003-4e78-dddc-e457ee588a90"
   },
   "outputs": [
    {
     "name": "stdout",
     "output_type": "stream",
     "text": [
      "120/120 [==============================] - 3s 23ms/step\n",
      "Test loss: 0.8553064525127411\n",
      "Test accuracy: 0.7916666865348816\n"
     ]
    },
    {
     "data": {
      "text/plain": [
       "<matplotlib.legend.Legend at 0x7fd4d9fe0c18>"
      ]
     },
     "execution_count": 12,
     "metadata": {
      "tags": []
     },
     "output_type": "execute_result"
    },
    {
     "data": {
      "image/png": "[encoded data removed]",
      "text/plain": [
       "<Figure size 432x288 with 1 Axes>"
      ]
     },
     "metadata": {
      "needs_background": "light",
      "tags": []
     },
     "output_type": "display_data"
    }
   ],
   "source": [
    "# test\n",
    "\n",
    "score = model.evaluate(x_test, y_test) # generates predictions and compares them with ground truth test_y all in one easy step!\n",
    "print(\"Test loss:\", score[0])\n",
    "print(\"Test accuracy:\", score[1])\n",
    "plt.plot(history.history['accuracy'])\n",
    "plt.plot(history.history['val_accuracy'])\n",
    "plt.legend(['accuracy', 'val_history'])"
   ]
  }
 ],
 "metadata": {
  "accelerator": "GPU",
  "colab": {
   "collapsed_sections": [],
   "include_colab_link": true,
   "name": "our_resnet50.ipynb",
   "provenance": []
  },
  "kernelspec": {
   "display_name": "Python 3",
   "language": "python",
   "name": "python3"
  },
  "language_info": {
   "codemirror_mode": {
    "name": "ipython",
    "version": 3
   },
   "file_extension": ".py",
   "mimetype": "text/x-python",
   "name": "python",
   "nbconvert_exporter": "python",
   "pygments_lexer": "ipython3",
   "version": "3.7.6"
  }
 },
 "nbformat": 4,
 "nbformat_minor": 4
}
