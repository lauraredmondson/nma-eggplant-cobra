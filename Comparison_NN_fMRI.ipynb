{
  "nbformat": 4,
  "nbformat_minor": 0,
  "metadata": {
    "colab": {
      "name": "Comparison_NN_fMRI.ipynb",
      "provenance": [],
      "collapsed_sections": [],
      "include_colab_link": true
    },
    "kernelspec": {
      "name": "python3",
      "display_name": "Python 3"
    }
  },
  "cells": [
    {
      "cell_type": "markdown",
      "metadata": {
        "id": "view-in-github",
        "colab_type": "text"
      },
      "source": [
        "<a href=\"https://colab.research.google.com/github/lauraredmondson/nma-eggplant-cobra/blob/master/Comparison_NN_fMRI.ipynb\" target=\"_parent\"><img src=\"https://colab.research.google.com/assets/colab-badge.svg\" alt=\"Open In Colab\"/></a>"
      ]
    },
    {
      "cell_type": "code",
      "metadata": {
        "id": "to-232QpCnCL",
        "colab_type": "code",
        "colab": {}
      },
      "source": [
        "import os\n",
        "import numpy as np\n",
        "import matplotlib.pyplot as plt\n",
        "import urllib\n",
        "from scipy.stats import *"
      ],
      "execution_count": null,
      "outputs": []
    },
    {
      "cell_type": "code",
      "metadata": {
        "id": "gfVrthqcCyPF",
        "colab_type": "code",
        "colab": {}
      },
      "source": [
        "corr_fMRI, _ = urllib.request.urlretrieve('https://github.com/lauraredmondson/nma-eggplant-cobra/raw/master/Results/Corr_fMRI.npy')\n",
        "corr_CNN,  _ = urllib.request.urlretrieve('https://github.com/lauraredmondson/nma-eggplant-cobra/raw/master/Results/21_train_coefs.npy')\n",
        "\n",
        "#corr_fMRI_dig, _ = urllib.request.urlretrieve('https://github.com/lauraredmondson/nma-eggplant-cobra/raw/master/Results/Dig_Corr_fMRI.npy')\n",
        "#corr_CNN_dig,  _ = urllib.request.urlretrieve('https://github.com/lauraredmondson/nma-eggplant-cobra/raw/master/')"
      ],
      "execution_count": null,
      "outputs": []
    },
    {
      "cell_type": "code",
      "metadata": {
        "id": "sStutlXDE41v",
        "colab_type": "code",
        "colab": {}
      },
      "source": [
        "corr_fmri = np.load(corr_fMRI) \n",
        "corr_cnn = np.load(corr_CNN)\n",
        "\n",
        "#corr_fmri = corr_fmri[~np.eye(1750).astype(bool)]\n",
        "#corr_cnn = corr_cnn[~np.eye(1750).astype(bool)]\n",
        "\n",
        "corr_fmri_flatten = np.reshape(corr_fmri,-1)\n",
        "corr_cnn_flatten = np.reshape(corr_cnn,-1)"
      ],
      "execution_count": null,
      "outputs": []
    },
    {
      "cell_type": "code",
      "metadata": {
        "id": "ANnsiEWaNHNw",
        "colab_type": "code",
        "colab": {
          "base_uri": "https://localhost:8080/",
          "height": 34
        },
        "outputId": "51044727-d37d-4fa9-db03-9b14d81a4493"
      },
      "source": [
        "print(corr_fmri_flatten.shape)"
      ],
      "execution_count": null,
      "outputs": [
        {
          "output_type": "stream",
          "text": [
            "(3062500,)\n"
          ],
          "name": "stdout"
        }
      ]
    },
    {
      "cell_type": "code",
      "metadata": {
        "id": "5n4aUjX2F9be",
        "colab_type": "code",
        "colab": {}
      },
      "source": [
        "spear = spearmanr(corr_fmri_flatten, corr_cnn_flatten)"
      ],
      "execution_count": null,
      "outputs": []
    },
    {
      "cell_type": "code",
      "metadata": {
        "id": "WYRmsk1YGs8e",
        "colab_type": "code",
        "colab": {
          "base_uri": "https://localhost:8080/",
          "height": 34
        },
        "outputId": "76fa4700-8e9d-4037-b371-a0ad1ce8d23e"
      },
      "source": [
        "print(spear)"
      ],
      "execution_count": null,
      "outputs": [
        {
          "output_type": "stream",
          "text": [
            "SpearmanrResult(correlation=0.03713078974108594, pvalue=0.0)\n"
          ],
          "name": "stdout"
        }
      ]
    },
    {
      "cell_type": "code",
      "metadata": {
        "id": "r_n_o3kqGxk_",
        "colab_type": "code",
        "colab": {}
      },
      "source": [
        "def upper_tri_indexing(A): \n",
        "  m = A.shape[0] \n",
        "  r,c = np.triu_indices(m,1) \n",
        "  return A[r,c] "
      ],
      "execution_count": null,
      "outputs": []
    },
    {
      "cell_type": "code",
      "metadata": {
        "id": "IMBNpzwONr78",
        "colab_type": "code",
        "colab": {
          "base_uri": "https://localhost:8080/",
          "height": 34
        },
        "outputId": "58da42dc-3a1e-4ba6-c7ba-6f74df8b5f25"
      },
      "source": [
        "corr_fmri_new = upper_tri_indexing(corr_fmri)\n",
        "corr_cnn_new = upper_tri_indexing(corr_cnn)\n",
        "print(corr_fmri_new.shape)"
      ],
      "execution_count": null,
      "outputs": [
        {
          "output_type": "stream",
          "text": [
            "(1530375,)\n"
          ],
          "name": "stdout"
        }
      ]
    },
    {
      "cell_type": "code",
      "metadata": {
        "id": "Ifk8aWUkN7eR",
        "colab_type": "code",
        "colab": {
          "base_uri": "https://localhost:8080/",
          "height": 34
        },
        "outputId": "4695e217-3103-4670-9d3b-1a349086e993"
      },
      "source": [
        "spear_new = spearmanr(corr_fmri_new, corr_cnn_new)\n",
        "print(spear_new)"
      ],
      "execution_count": null,
      "outputs": [
        {
          "output_type": "stream",
          "text": [
            "SpearmanrResult(correlation=0.03547826875396466, pvalue=0.0)\n"
          ],
          "name": "stdout"
        }
      ]
    },
    {
      "cell_type": "code",
      "metadata": {
        "id": "9Yx3uSnlG1bo",
        "colab_type": "code",
        "colab": {}
      },
      "source": [
        "from scipy.io import loadmat\n",
        "temp_test, _ = urllib.request.urlretrieve('https://github.com/lauraredmondson/nma-eggplant-cobra/raw/master/Data/y_test.mat')\n",
        "temp_train,  _ = urllib.request.urlretrieve('https://github.com/lauraredmondson/nma-eggplant-cobra/raw/master/Data/y_train.mat')\n",
        "y_test_ours = loadmat(temp_test)\n",
        "y_train_ours = loadmat(temp_train)\n",
        "labels = ['Animals', 'Buildings', 'Food', 'Humans', 'Indoor Scenes', 'Manmade Objects', 'Outdoor Scenes', 'Textures']"
      ],
      "execution_count": null,
      "outputs": []
    },
    {
      "cell_type": "code",
      "metadata": {
        "id": "E6rbZBalRCmY",
        "colab_type": "code",
        "colab": {
          "base_uri": "https://localhost:8080/",
          "height": 153
        },
        "outputId": "a00cebb5-ba31-4e6c-a2cb-063490862262"
      },
      "source": [
        "start = 0\n",
        "end = np.sum(y_train_ours[\"y_train\"]==1)-1\n",
        "spear_corr = np.zeros((8,1))\n",
        "for i in range(1,9): \n",
        "  fmri = corr_fmri[start:end, start:end]\n",
        "  cnn = corr_fmri[start:end, start:end]\n",
        "  fmri_new = upper_tri_indexing(fmri)\n",
        "  cnn_new = upper_tri_indexing(cnn)\n",
        "  spear = spearmanr(fmri_new, cnn_new)\n",
        "  spear_corr[i-1] = spear[0]\n",
        "  #print('Start: ', start, 'End: ', end)\n",
        "  #print('%s: ' % labels[i-1], spear)\n",
        "  start = end +1\n",
        "  end = end + np.sum(y_train_ours[\"y_train\"]==i+1)\n",
        "print(spear_corr)"
      ],
      "execution_count": null,
      "outputs": [
        {
          "output_type": "stream",
          "text": [
            "[[1.]\n",
            " [1.]\n",
            " [1.]\n",
            " [1.]\n",
            " [1.]\n",
            " [1.]\n",
            " [1.]\n",
            " [1.]]\n"
          ],
          "name": "stdout"
        }
      ]
    },
    {
      "cell_type": "code",
      "metadata": {
        "id": "e1rLnzoIOL6S",
        "colab_type": "code",
        "colab": {
          "base_uri": "https://localhost:8080/",
          "height": 1000
        },
        "outputId": "06fc1624-68ef-4c46-f7fa-8b338e497974"
      },
      "source": [
        "################## DO NOT CONSIDER WITH i=j --> same labels BECAUSE THERE IS THE DIAGONAL\n",
        "start_rows = 0\n",
        "end_rows = np.sum(y_train_ours[\"y_train\"]==1)-1\n",
        "start_colums = 0\n",
        "end_colums = np.sum(y_train_ours[\"y_train\"]==1)-1\n",
        "spear_all = np.zeros((8,8))\n",
        "for i in range(1,9): \n",
        "  print(i)\n",
        "  for j in range(i,9):\n",
        "    fmri = corr_fmri[start_rows:end_rows, start_colums:end_colums]\n",
        "    cnn = corr_cnn[start_rows:end_rows, start_colums:end_colums]\n",
        "    print('Start_row: ', start_rows, 'End_row: ', end_rows)\n",
        "    print('Start_colums: ', start_colums, 'End_colums: ', end_colums)\n",
        "    fmri_new = np.reshape(fmri,-1) # not using upper_tri_indexing() because we have not always squared matrix\n",
        "    cnn_new = np.reshape(cnn,-1)\n",
        "    spear = spearmanr(fmri_new, cnn_new)\n",
        "    spear_all[i-1, j-1] = spear[0]\n",
        "    if i==j:\n",
        "      spear_all[i-1, j-1] = spear_corr[i-1]\n",
        "    #print('%s ' % labels[i-1], '%s: ' % labels[j-1], spear)\n",
        "    start_colums = end_colums +1\n",
        "    end_colums = end_colums + np.sum(y_train_ours[\"y_train\"]==j+1)\n",
        "  start_rows = end_rows +1\n",
        "  end_rows = end_rows + np.sum(y_train_ours[\"y_train\"]==i+1)\n",
        "  start_colums = start_rows\n",
        "  end_colums = end_rows\n",
        "print(spear_all)"
      ],
      "execution_count": null,
      "outputs": [
        {
          "output_type": "stream",
          "text": [
            "1\n",
            "Start_row:  0 End_row:  488\n",
            "Start_colums:  0 End_colums:  488\n",
            "Start_row:  0 End_row:  488\n",
            "Start_colums:  489 End_colums:  647\n",
            "Start_row:  0 End_row:  488\n",
            "Start_colums:  648 End_colums:  763\n",
            "Start_row:  0 End_row:  488\n",
            "Start_colums:  764 End_colums:  996\n",
            "Start_row:  0 End_row:  488\n",
            "Start_colums:  997 End_colums:  1096\n",
            "Start_row:  0 End_row:  488\n",
            "Start_colums:  1097 End_colums:  1190\n",
            "Start_row:  0 End_row:  488\n",
            "Start_colums:  1191 End_colums:  1544\n",
            "Start_row:  0 End_row:  488\n",
            "Start_colums:  1545 End_colums:  1749\n",
            "2\n",
            "Start_row:  489 End_row:  647\n",
            "Start_colums:  489 End_colums:  647\n",
            "Start_row:  489 End_row:  647\n",
            "Start_colums:  648 End_colums:  763\n",
            "Start_row:  489 End_row:  647\n",
            "Start_colums:  764 End_colums:  996\n",
            "Start_row:  489 End_row:  647\n",
            "Start_colums:  997 End_colums:  1096\n",
            "Start_row:  489 End_row:  647\n",
            "Start_colums:  1097 End_colums:  1190\n",
            "Start_row:  489 End_row:  647\n",
            "Start_colums:  1191 End_colums:  1544\n",
            "Start_row:  489 End_row:  647\n",
            "Start_colums:  1545 End_colums:  1749\n",
            "3\n",
            "Start_row:  648 End_row:  763\n",
            "Start_colums:  648 End_colums:  763\n",
            "Start_row:  648 End_row:  763\n",
            "Start_colums:  764 End_colums:  996\n",
            "Start_row:  648 End_row:  763\n",
            "Start_colums:  997 End_colums:  1096\n",
            "Start_row:  648 End_row:  763\n",
            "Start_colums:  1097 End_colums:  1190\n",
            "Start_row:  648 End_row:  763\n",
            "Start_colums:  1191 End_colums:  1544\n",
            "Start_row:  648 End_row:  763\n",
            "Start_colums:  1545 End_colums:  1749\n",
            "4\n",
            "Start_row:  764 End_row:  996\n",
            "Start_colums:  764 End_colums:  996\n",
            "Start_row:  764 End_row:  996\n",
            "Start_colums:  997 End_colums:  1096\n",
            "Start_row:  764 End_row:  996\n",
            "Start_colums:  1097 End_colums:  1190\n",
            "Start_row:  764 End_row:  996\n",
            "Start_colums:  1191 End_colums:  1544\n",
            "Start_row:  764 End_row:  996\n",
            "Start_colums:  1545 End_colums:  1749\n",
            "5\n",
            "Start_row:  997 End_row:  1096\n",
            "Start_colums:  997 End_colums:  1096\n",
            "Start_row:  997 End_row:  1096\n",
            "Start_colums:  1097 End_colums:  1190\n",
            "Start_row:  997 End_row:  1096\n",
            "Start_colums:  1191 End_colums:  1544\n",
            "Start_row:  997 End_row:  1096\n",
            "Start_colums:  1545 End_colums:  1749\n",
            "6\n",
            "Start_row:  1097 End_row:  1190\n",
            "Start_colums:  1097 End_colums:  1190\n",
            "Start_row:  1097 End_row:  1190\n",
            "Start_colums:  1191 End_colums:  1544\n",
            "Start_row:  1097 End_row:  1190\n",
            "Start_colums:  1545 End_colums:  1749\n",
            "7\n",
            "Start_row:  1191 End_row:  1544\n",
            "Start_colums:  1191 End_colums:  1544\n",
            "Start_row:  1191 End_row:  1544\n",
            "Start_colums:  1545 End_colums:  1749\n",
            "8\n",
            "Start_row:  1545 End_row:  1749\n",
            "Start_colums:  1545 End_colums:  1749\n",
            "[[ 1.00000000e+00  1.12907360e-02 -6.32295610e-03  2.48733367e-02\n",
            "   3.06318263e-02  1.30559263e-02  1.13258471e-02  5.40899793e-03]\n",
            " [ 0.00000000e+00  1.00000000e+00  2.91500269e-02 -1.31083868e-03\n",
            "   4.95837949e-02  4.85992269e-02  2.79232186e-02  3.28558358e-02]\n",
            " [ 0.00000000e+00  0.00000000e+00  1.00000000e+00  7.36922094e-04\n",
            "   1.93305416e-02  3.15174457e-02  2.06272447e-02  2.03234426e-02]\n",
            " [ 0.00000000e+00  0.00000000e+00  0.00000000e+00  1.00000000e+00\n",
            "   1.27006797e-02  2.01195967e-02  1.00025171e-03 -1.05793835e-02]\n",
            " [ 0.00000000e+00  0.00000000e+00  0.00000000e+00  0.00000000e+00\n",
            "   1.00000000e+00  4.69001373e-02  3.99003540e-02  4.92287639e-02]\n",
            " [ 0.00000000e+00  0.00000000e+00  0.00000000e+00  0.00000000e+00\n",
            "   0.00000000e+00  1.00000000e+00  2.17168822e-02  8.83004466e-03]\n",
            " [ 0.00000000e+00  0.00000000e+00  0.00000000e+00  0.00000000e+00\n",
            "   0.00000000e+00  0.00000000e+00  1.00000000e+00  6.44478312e-02]\n",
            " [ 0.00000000e+00  0.00000000e+00  0.00000000e+00  0.00000000e+00\n",
            "   0.00000000e+00  0.00000000e+00  0.00000000e+00  1.00000000e+00]]\n"
          ],
          "name": "stdout"
        }
      ]
    },
    {
      "cell_type": "code",
      "metadata": {
        "id": "1-6O3iin9cLi",
        "colab_type": "code",
        "colab": {
          "base_uri": "https://localhost:8080/",
          "height": 286
        },
        "outputId": "953e1de7-c5d7-47ff-b258-a552be36ffd4"
      },
      "source": [
        "plt.imshow(spear_all)\n",
        "plt.colorbar()"
      ],
      "execution_count": null,
      "outputs": [
        {
          "output_type": "execute_result",
          "data": {
            "text/plain": [
              "<matplotlib.colorbar.Colorbar at 0x7f3af6f7aa90>"
            ]
          },
          "metadata": {
            "tags": []
          },
          "execution_count": 19
        },
        {
          "output_type": "display_data",
          "data": {
            "image/png": "[encoded data removed]",
            "text/plain": [
              "<Figure size 432x288 with 2 Axes>"
            ]
          },
          "metadata": {
            "tags": [],
            "needs_background": "light"
          }
        }
      ]
    },
    {
      "cell_type": "code",
      "metadata": {
        "id": "fCsUSA6-NXgT",
        "colab_type": "code",
        "colab": {
          "base_uri": "https://localhost:8080/",
          "height": 378
        },
        "outputId": "fdab92a7-0037-4bb7-c376-77e016f3b482"
      },
      "source": [
        "def digitize_rdm(rdm_raw, n_bins = 10): \n",
        "    \"\"\"Digitize an input matrix to n bins (10 bins by default)\n",
        "    rdm_raw: a square matrix \n",
        "    \"\"\"\n",
        "    # compute the bins \n",
        "    \n",
        "    rdm_bins = [np.percentile(np.ravel(rdm_raw), 100/n_bins * i) for i in range(n_bins)]\n",
        "    # Compute the vectorized digitized value \n",
        "    rdm_vec_digitized = np.digitize(np.ravel(rdm_raw), bins = rdm_bins) * (100 // n_bins) \n",
        "    \n",
        "    # Reshape to matrix\n",
        "    rdm_digitized = np.reshape(rdm_vec_digitized, np.shape(rdm_raw)) \n",
        "    \n",
        "    # Force symmetry in the plot\n",
        "    rdm_digitized = (rdm_digitized + rdm_digitized.T) / 2\n",
        "    \n",
        "    return rdm_digitized\n",
        "spe_bin = digitize_rdm(spear_all)\n",
        "spe_low = np.tril(digitize_rdm(spear_all))\n",
        "spe_low[spe_low==0] = 'Nan'\n",
        "labels_ax = ['Animals', 'Buildings', 'Food', 'Humans', 'Indoor Scenes', 'Manmade Objects', 'Outdoor Scenes', 'Textures']\n",
        "binsize = np.histogram([1,2,3,4,5,6,7,8], 8)[0]\n",
        "edges = np.concatenate([np.asarray([0]), np.cumsum(binsize)])[:-1]\n",
        "f, ax = plt.subplots(1,1)\n",
        "plt.imshow(spe_low)\n",
        "cbar = plt.colorbar()\n",
        "cbar.set_label('ICCS') \n",
        "#plt.axis('off')\n",
        "ax.spines['top'].set_visible(False)\n",
        "ax.spines['right'].set_visible(False) \n",
        "ax.set_xticks(list(np.array(edges)))\n",
        "ax.set_xticklabels(labels_ax, rotation = 90)\n",
        "ax.set_yticks(list(np.array(edges)))\n",
        "ax.set_yticklabels(labels_ax)\n",
        "ax.set_title('InterClass Correlation Score')"
      ],
      "execution_count": null,
      "outputs": [
        {
          "output_type": "execute_result",
          "data": {
            "text/plain": [
              "Text(0.5, 1.0, 'InterClass Correlation Score')"
            ]
          },
          "metadata": {
            "tags": []
          },
          "execution_count": 20
        },
        {
          "output_type": "display_data",
          "data": {
            "image/png": "[encoded data removed]",
            "text/plain": [
              "<Figure size 432x288 with 2 Axes>"
            ]
          },
          "metadata": {
            "tags": [],
            "needs_background": "light"
          }
        }
      ]
    },
    {
      "cell_type": "code",
      "metadata": {
        "id": "iVYxrnycNtcz",
        "colab_type": "code",
        "colab": {}
      },
      "source": [
        ""
      ],
      "execution_count": null,
      "outputs": []
    }
  ]
}