{
  "nbformat": 4,
  "nbformat_minor": 0,
  "metadata": {
    "colab": {
      "name": "MNIST_CNN.ipynb",
      "provenance": [],
      "authorship_tag": "ABX9TyO45DmSGxsmPjglJCc2tlgv",
      "include_colab_link": true
    },
    "kernelspec": {
      "name": "python3",
      "display_name": "Python 3"
    },
    "accelerator": "GPU"
  },
  "cells": [
    {
      "cell_type": "markdown",
      "metadata": {
        "id": "view-in-github",
        "colab_type": "text"
      },
      "source": [
        "<a href=\"https://colab.research.google.com/github/lauraredmondson/nma-eggplant-cobra/blob/master/MNIST_CNN.ipynb\" target=\"_parent\"><img src=\"https://colab.research.google.com/assets/colab-badge.svg\" alt=\"Open In Colab\"/></a>"
      ]
    },
    {
      "cell_type": "markdown",
      "metadata": {
        "id": "f4DwKcp7T5mk",
        "colab_type": "text"
      },
      "source": [
        "first import everything you might need:"
      ]
    },
    {
      "cell_type": "code",
      "metadata": {
        "id": "EULca7qzxsK1",
        "colab_type": "code",
        "colab": {}
      },
      "source": [
        "from keras.datasets import fashion_mnist, mnist\n",
        "import keras\n",
        "from keras import layers\n",
        "from matplotlib import pyplot as plt\n",
        "import numpy as np"
      ],
      "execution_count": 44,
      "outputs": []
    },
    {
      "cell_type": "markdown",
      "metadata": {
        "id": "CCGwv3N1T-Gm",
        "colab_type": "text"
      },
      "source": [
        "Now import our dataset, let's also plot some images to see what we're dealing with:"
      ]
    },
    {
      "cell_type": "code",
      "metadata": {
        "id": "0E2N5y3HylIc",
        "colab_type": "code",
        "colab": {
          "base_uri": "https://localhost:8080/",
          "height": 302
        },
        "outputId": "c92cce5d-8e69-433d-81ce-4b3e62227ce5"
      },
      "source": [
        "#(train_X, train_y), (test_X, test_y) = fashion_mnist.load_data()\n",
        "(train_X, train_y), (test_X, test_y) = mnist.load_data()  # comment out this line and uncomment  the above to use fashion instead of digits 💃\n",
        "\n",
        "\n",
        "print(f'Train: X = {train_X.shape}, y = {train_y.shape}')\n",
        "print(f'Test: X = {test_X.shape}, y = {test_y.shape}')\n",
        "\n",
        "for i in range(9):\n",
        "  plt.subplot(330+1+i)\n",
        "  plt.imshow(train_X[i], cmap=plt.get_cmap('gray'))\n",
        "\n",
        "plt.show()\n",
        "\n"
      ],
      "execution_count": 52,
      "outputs": [
        {
          "output_type": "stream",
          "text": [
            "Train: X = (60000, 28, 28), y = (60000,)\n",
            "Test: X = (10000, 28, 28), y = (10000,)\n"
          ],
          "name": "stdout"
        },
        {
          "output_type": "display_data",
          "data": {
            "image/png": "[encoded data removed]",
            "text/plain": [
              "<Figure size 432x288 with 9 Axes>"
            ]
          },
          "metadata": {
            "tags": [],
            "needs_background": "light"
          }
        }
      ]
    },
    {
      "cell_type": "markdown",
      "metadata": {
        "id": "352YgnZfUOAV",
        "colab_type": "text"
      },
      "source": [
        "IMPORTANT: Our dataset is currently using pixel values between 0 and 255 to express each image. Our network doesn't do great with those sorts of dimensions, so we are going to convert them to cover a distribution with $\\mu = 0$ and $\\sigma=1$ by deducting the mean and dividing by the standard deviation. We also make some other changes to match them to the in- and outputs of our network."
      ]
    },
    {
      "cell_type": "code",
      "metadata": {
        "id": "KjCM2_dtSPf3",
        "colab_type": "code",
        "colab": {}
      },
      "source": [
        "train_X = train_X.astype('float32')   #currently X matrices are of data type int: need to convert here to stop python from complaining when we divide\n",
        "train_X -= np.mean(train_X)           #deduct the mean: now mean == 0\n",
        "train_X /= np.std(train_X)            #divide by the std: now std == 1\n",
        "train_X = np.expand_dims(train_X, -1) #add an extra dimension because our Conv2D layer wills it so\n",
        "\n",
        "test_X = test_X.astype('float32')     #see above\n",
        "test_X -= np.mean(test_X)\n",
        "test_X /= np.std(test_X)\n",
        "test_X = np.expand_dims(test_X, -1)\n",
        "\n",
        "train_y = keras.utils.to_categorical(train_y, 10) #turn our y vectors (currently ints 0-9) into 'one-hot' vectors to match the categorical output of our network\n",
        "test_y = keras.utils.to_categorical(test_y, 10)"
      ],
      "execution_count": 53,
      "outputs": []
    },
    {
      "cell_type": "markdown",
      "metadata": {
        "id": "xYY_-TN8VSdH",
        "colab_type": "text"
      },
      "source": [
        "Now let's build our model! This is the place to add (or change) stuff before training it! Just make sure your first layer has `input_shape = 28,28,1` and your output layer is size 10 and uses softmax."
      ]
    },
    {
      "cell_type": "code",
      "metadata": {
        "id": "quBVDzWNzRLJ",
        "colab_type": "code",
        "colab": {
          "base_uri": "https://localhost:8080/",
          "height": 323
        },
        "outputId": "38465f4e-f2ab-49a9-e43d-c457364ef965"
      },
      "source": [
        "model = keras.Sequential()\n",
        "model.add(layers.Conv2D(32, (3, 3), activation='relu', kernel_initializer='he_uniform', input_shape=(28, 28, 1))) # A convolutional layer\n",
        "model.add(layers.MaxPooling2D(pool_size=(2, 2)))                                                                  # A pooling layer to filter out some noise\n",
        "model.add(layers.Flatten())                                                                                       # A flatten layer is required to move from 2dConv to densely connected layers\n",
        "model.add(layers.Dense(100,activation='relu'))                                                                    # This layer actually has most of our weights!\n",
        "model.add(layers.Dense(10, activation=\"softmax\"))                                                                 # Output uses another activation function and is size==output_size (==10)\n",
        "\n",
        "opt = keras.optimizers.SGD(lr=0.01, momentum=0.9) # you can try other optimizers like Adam or Nesterov (see keras.io for documentation) or change the hyperparameters\n",
        "model.summary()\n",
        "model.compile(loss=\"categorical_crossentropy\", optimizer=opt, metrics=[\"accuracy\"])\n"
      ],
      "execution_count": 54,
      "outputs": [
        {
          "output_type": "stream",
          "text": [
            "Model: \"sequential_11\"\n",
            "_________________________________________________________________\n",
            "Layer (type)                 Output Shape              Param #   \n",
            "=================================================================\n",
            "conv2d_10 (Conv2D)           (None, 26, 26, 32)        320       \n",
            "_________________________________________________________________\n",
            "max_pooling2d_10 (MaxPooling (None, 13, 13, 32)        0         \n",
            "_________________________________________________________________\n",
            "flatten_10 (Flatten)         (None, 5408)              0         \n",
            "_________________________________________________________________\n",
            "dense_19 (Dense)             (None, 100)               540900    \n",
            "_________________________________________________________________\n",
            "dense_20 (Dense)             (None, 10)                1010      \n",
            "=================================================================\n",
            "Total params: 542,230\n",
            "Trainable params: 542,230\n",
            "Non-trainable params: 0\n",
            "_________________________________________________________________\n"
          ],
          "name": "stdout"
        }
      ]
    },
    {
      "cell_type": "markdown",
      "metadata": {
        "id": "kuJajBm9WDSX",
        "colab_type": "text"
      },
      "source": [
        "Model looks good. Let's train it!"
      ]
    },
    {
      "cell_type": "code",
      "metadata": {
        "id": "R2NDi5lnAIuP",
        "colab_type": "code",
        "colab": {
          "base_uri": "https://localhost:8080/",
          "height": 1000
        },
        "outputId": "7d950344-442b-43be-98d1-1f1d9487855b"
      },
      "source": [
        "batch_size = 128\n",
        "epochs = 30\n",
        "\n",
        "history = model.fit(train_X, train_y, batch_size=batch_size, epochs=epochs, validation_split=0.1)"
      ],
      "execution_count": 55,
      "outputs": [
        {
          "output_type": "stream",
          "text": [
            "Train on 54000 samples, validate on 6000 samples\n",
            "Epoch 1/30\n",
            "54000/54000 [==============================] - 3s 62us/step - loss: 0.2779 - accuracy: 0.9189 - val_loss: 0.1116 - val_accuracy: 0.9663\n",
            "Epoch 2/30\n",
            "54000/54000 [==============================] - 3s 61us/step - loss: 0.1084 - accuracy: 0.9662 - val_loss: 0.0742 - val_accuracy: 0.9788\n",
            "Epoch 3/30\n",
            "54000/54000 [==============================] - 3s 61us/step - loss: 0.0726 - accuracy: 0.9779 - val_loss: 0.0579 - val_accuracy: 0.9837\n",
            "Epoch 4/30\n",
            "54000/54000 [==============================] - 3s 60us/step - loss: 0.0537 - accuracy: 0.9828 - val_loss: 0.0530 - val_accuracy: 0.9863\n",
            "Epoch 5/30\n",
            "54000/54000 [==============================] - 3s 60us/step - loss: 0.0430 - accuracy: 0.9864 - val_loss: 0.0520 - val_accuracy: 0.9852\n",
            "Epoch 6/30\n",
            "54000/54000 [==============================] - 3s 61us/step - loss: 0.0338 - accuracy: 0.9887 - val_loss: 0.0479 - val_accuracy: 0.9858\n",
            "Epoch 7/30\n",
            "54000/54000 [==============================] - 3s 61us/step - loss: 0.0258 - accuracy: 0.9921 - val_loss: 0.0487 - val_accuracy: 0.9878\n",
            "Epoch 8/30\n",
            "54000/54000 [==============================] - 3s 61us/step - loss: 0.0215 - accuracy: 0.9934 - val_loss: 0.0513 - val_accuracy: 0.9867\n",
            "Epoch 9/30\n",
            "54000/54000 [==============================] - 3s 61us/step - loss: 0.0174 - accuracy: 0.9948 - val_loss: 0.0549 - val_accuracy: 0.9855\n",
            "Epoch 10/30\n",
            "54000/54000 [==============================] - 3s 60us/step - loss: 0.0142 - accuracy: 0.9959 - val_loss: 0.0484 - val_accuracy: 0.9878\n",
            "Epoch 11/30\n",
            "54000/54000 [==============================] - 3s 61us/step - loss: 0.0107 - accuracy: 0.9973 - val_loss: 0.0513 - val_accuracy: 0.9877\n",
            "Epoch 12/30\n",
            "54000/54000 [==============================] - 3s 61us/step - loss: 0.0092 - accuracy: 0.9976 - val_loss: 0.0463 - val_accuracy: 0.9883\n",
            "Epoch 13/30\n",
            "54000/54000 [==============================] - 3s 61us/step - loss: 0.0068 - accuracy: 0.9986 - val_loss: 0.0546 - val_accuracy: 0.9863\n",
            "Epoch 14/30\n",
            "54000/54000 [==============================] - 3s 61us/step - loss: 0.0055 - accuracy: 0.9989 - val_loss: 0.0496 - val_accuracy: 0.9887\n",
            "Epoch 15/30\n",
            "54000/54000 [==============================] - 3s 60us/step - loss: 0.0046 - accuracy: 0.9992 - val_loss: 0.0509 - val_accuracy: 0.9878\n",
            "Epoch 16/30\n",
            "54000/54000 [==============================] - 3s 60us/step - loss: 0.0035 - accuracy: 0.9996 - val_loss: 0.0485 - val_accuracy: 0.9878\n",
            "Epoch 17/30\n",
            "54000/54000 [==============================] - 3s 60us/step - loss: 0.0027 - accuracy: 0.9997 - val_loss: 0.0496 - val_accuracy: 0.9890\n",
            "Epoch 18/30\n",
            "54000/54000 [==============================] - 3s 61us/step - loss: 0.0021 - accuracy: 0.9999 - val_loss: 0.0494 - val_accuracy: 0.9880\n",
            "Epoch 19/30\n",
            "54000/54000 [==============================] - 3s 60us/step - loss: 0.0019 - accuracy: 0.9999 - val_loss: 0.0498 - val_accuracy: 0.9878\n",
            "Epoch 20/30\n",
            "54000/54000 [==============================] - 3s 61us/step - loss: 0.0015 - accuracy: 1.0000 - val_loss: 0.0524 - val_accuracy: 0.9888\n",
            "Epoch 21/30\n",
            "54000/54000 [==============================] - 3s 61us/step - loss: 0.0013 - accuracy: 1.0000 - val_loss: 0.0527 - val_accuracy: 0.9888\n",
            "Epoch 22/30\n",
            "54000/54000 [==============================] - 3s 61us/step - loss: 0.0011 - accuracy: 1.0000 - val_loss: 0.0524 - val_accuracy: 0.9882\n",
            "Epoch 23/30\n",
            "54000/54000 [==============================] - 3s 61us/step - loss: 0.0010 - accuracy: 1.0000 - val_loss: 0.0542 - val_accuracy: 0.9882\n",
            "Epoch 24/30\n",
            "54000/54000 [==============================] - 3s 61us/step - loss: 9.2744e-04 - accuracy: 1.0000 - val_loss: 0.0527 - val_accuracy: 0.9883\n",
            "Epoch 25/30\n",
            "54000/54000 [==============================] - 3s 61us/step - loss: 8.4486e-04 - accuracy: 1.0000 - val_loss: 0.0535 - val_accuracy: 0.9883\n",
            "Epoch 26/30\n",
            "54000/54000 [==============================] - 3s 61us/step - loss: 7.7132e-04 - accuracy: 1.0000 - val_loss: 0.0534 - val_accuracy: 0.9890\n",
            "Epoch 27/30\n",
            "54000/54000 [==============================] - 3s 60us/step - loss: 7.2107e-04 - accuracy: 1.0000 - val_loss: 0.0539 - val_accuracy: 0.9885\n",
            "Epoch 28/30\n",
            "54000/54000 [==============================] - 3s 61us/step - loss: 6.7041e-04 - accuracy: 1.0000 - val_loss: 0.0557 - val_accuracy: 0.9887\n",
            "Epoch 29/30\n",
            "54000/54000 [==============================] - 3s 61us/step - loss: 6.1609e-04 - accuracy: 1.0000 - val_loss: 0.0560 - val_accuracy: 0.9882\n",
            "Epoch 30/30\n",
            "54000/54000 [==============================] - 3s 61us/step - loss: 5.8318e-04 - accuracy: 1.0000 - val_loss: 0.0546 - val_accuracy: 0.9888\n"
          ],
          "name": "stdout"
        }
      ]
    },
    {
      "cell_type": "markdown",
      "metadata": {
        "id": "09JtoYdPW7Rc",
        "colab_type": "text"
      },
      "source": [
        "Our model does insanely well very quickly (and even hits 100% Accuracy on the training set)! However, 30 epochs is clearly too long a training time, as we can see the network's `val_accuracy` and `val_loss` plateau early on.\n",
        "\n",
        "One question that remains is, how well does it do on the test set?"
      ]
    },
    {
      "cell_type": "code",
      "metadata": {
        "id": "CDJj87QZJVmF",
        "colab_type": "code",
        "colab": {
          "base_uri": "https://localhost:8080/",
          "height": 68
        },
        "outputId": "8e0facd9-4147-419e-db12-ef3392b9056a"
      },
      "source": [
        "score = model.evaluate(test_X, test_y) # generates predictions and compares them with ground truth test_y all in one easy step!\n",
        "print(\"Test loss:\", score[0])\n",
        "print(\"Test accuracy:\", score[1])"
      ],
      "execution_count": 50,
      "outputs": [
        {
          "output_type": "stream",
          "text": [
            "10000/10000 [==============================] - 1s 90us/step\n",
            "Test loss: 0.41872877460047603\n",
            "Test accuracy: 0.9121000170707703\n"
          ],
          "name": "stdout"
        }
      ]
    },
    {
      "cell_type": "markdown",
      "metadata": {
        "id": "Dc1yIApQXbbL",
        "colab_type": "text"
      },
      "source": [
        "Not bad! Now, we might want to visualize the history of training to better help us select a good training length, and evaluate the influence of hyperparameters etc.\n",
        "Luckily keras again has very neat functionality for this, as it stores the history of the model's fitting in the history object defined above with `history=model.fit()`. We can plot some of its features with matplotlib to visualise the training history!"
      ]
    },
    {
      "cell_type": "code",
      "metadata": {
        "id": "r15wJvZQKlYf",
        "colab_type": "code",
        "colab": {
          "base_uri": "https://localhost:8080/",
          "height": 283
        },
        "outputId": "b59483a6-bbec-4a91-c9d4-2a38b528e538"
      },
      "source": [
        "plt.plot(history.history['accuracy'])\n",
        "plt.plot(history.history['val_accuracy'])\n",
        "plt.legend(['acc', 'val_acc'])\n",
        "plt.show"
      ],
      "execution_count": 51,
      "outputs": [
        {
          "output_type": "execute_result",
          "data": {
            "text/plain": [
              "<function matplotlib.pyplot.show>"
            ]
          },
          "metadata": {
            "tags": []
          },
          "execution_count": 51
        },
        {
          "output_type": "display_data",
          "data": {
            "image/png": "[encoded data removed]",
            "text/plain": [
              "<Figure size 432x288 with 1 Axes>"
            ]
          },
          "metadata": {
            "tags": [],
            "needs_background": "light"
          }
        }
      ]
    },
    {
      "cell_type": "markdown",
      "metadata": {
        "id": "SpxYBDkrb3SP",
        "colab_type": "text"
      },
      "source": [
        "Go team eggplant-cobra!"
      ]
    }
  ]
}